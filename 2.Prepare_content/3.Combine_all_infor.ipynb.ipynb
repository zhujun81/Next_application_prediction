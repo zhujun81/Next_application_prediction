{
 "cells": [
  {
   "cell_type": "markdown",
   "id": "041f1763-d9ce-4089-a5d9-95b528dd93e3",
   "metadata": {},
   "source": [
    "* Combine together job label encoders/job meta data/corresponding content embeddings\n",
    "* Combine together user label encoders/user meta data/"
   ]
  },
  {
   "cell_type": "code",
   "execution_count": 1,
   "id": "52c0587c-7ee1-48ab-9227-94fab0c9a130",
   "metadata": {},
   "outputs": [],
   "source": [
    "import os\n",
    "import random\n",
    "import pickle\n",
    "import argparse\n",
    "import matplotlib\n",
    "import numpy as np\n",
    "import pandas as pd\n",
    "import tensorflow as tf"
   ]
  },
  {
   "cell_type": "code",
   "execution_count": 2,
   "id": "1b322c85-ed16-4f16-b262-c800d9a8281c",
   "metadata": {},
   "outputs": [],
   "source": [
    "path =  \"../data/\"\n",
    "dataset = \"cb12/\"\n",
    "\n",
    "raw_path = path + dataset + \"raw/\" \n",
    "interim_path = path + dataset + \"interim/\"\n",
    "processed_path = path + dataset + \"processed/\""
   ]
  },
  {
   "cell_type": "markdown",
   "id": "82d40c9c-2820-4732-ae9f-6c35e8a41904",
   "metadata": {},
   "source": [
    "# Step 1: Load job metadata"
   ]
  },
  {
   "cell_type": "code",
   "execution_count": 3,
   "id": "9a60dc97-78b2-4086-9bae-0743cdb2c4e3",
   "metadata": {},
   "outputs": [],
   "source": [
    "def serialize(filename, obj):\n",
    "    with tf.io.gfile.GFile(filename, 'wb') as handle:\n",
    "        pickle.dump(obj, handle)\n",
    "\n",
    "def deserialize(filename):\n",
    "    with tf.io.gfile.GFile(filename, 'rb') as handle:\n",
    "        return pickle.load(handle)\n",
    "    \n",
    "def load_feature_encoders(path):\n",
    "    features_encoders = deserialize(path)\n",
    "    return features_encoders"
   ]
  },
  {
   "cell_type": "code",
   "execution_count": 4,
   "id": "7946eed4-0d27-46ec-8444-1720624f8256",
   "metadata": {},
   "outputs": [
    {
     "name": "stdout",
     "output_type": "stream",
     "text": [
      "Loading job from file: ../data/cb12/processed/jobs_14d_30_consider_user_encoded.csv\n",
      "(207972, 23)\n"
     ]
    }
   ],
   "source": [
    "print('Loading job from file: {}'.format(processed_path + 'jobs_14d_30_consider_user_encoded.csv'))\n",
    "job_df_30 = pd.read_csv(processed_path + 'jobs_14d_30_consider_user_encoded.csv', header=0, sep='\\t')\n",
    "print(job_df_30.shape)"
   ]
  },
  {
   "cell_type": "code",
   "execution_count": 5,
   "id": "b27bcb3f-f8f5-4ff2-a09f-ae505f902452",
   "metadata": {},
   "outputs": [],
   "source": [
    "job_features_encoders_30 = load_feature_encoders(processed_path + 'job_feature_encoders_14d_30_consider_user.pickle')"
   ]
  },
  {
   "cell_type": "markdown",
   "id": "06f99fc0-cb69-422b-b720-c3325eed88ef",
   "metadata": {},
   "source": [
    "# Step 2: Load job embeddings"
   ]
  },
  {
   "cell_type": "code",
   "execution_count": 6,
   "id": "bc0efec5-b8c8-4f6d-8e72-0b7d95f758c3",
   "metadata": {},
   "outputs": [],
   "source": [
    "def deserialize(filename):\n",
    "    with tf.io.gfile.GFile(filename, 'rb') as handle:\n",
    "        return pickle.load(handle)  \n",
    "\n",
    "def load_job_content_embeddings(input_job_content_embeddings_path):\n",
    "    print('Loading job embeddings from {}'.format(input_job_content_embeddings_path))\n",
    "    job_content_embeddings = deserialize(input_job_content_embeddings_path)\n",
    "    return job_content_embeddings"
   ]
  },
  {
   "cell_type": "code",
   "execution_count": 7,
   "id": "0ae5c1f0-1d27-4979-802c-3be40278641d",
   "metadata": {},
   "outputs": [
    {
     "name": "stdout",
     "output_type": "stream",
     "text": [
      "Loading job embeddings from ../language_models/pickles/jobs_14d_30_consider_user_All_d2v.pickle\n",
      "(207973, 300)\n",
      "1\n",
      "207972\n"
     ]
    }
   ],
   "source": [
    "job_content_embeddings_30 = load_job_content_embeddings('../language_models/pickles/jobs_14d_30_consider_user_All_d2v.pickle')\n",
    "print(job_content_embeddings_30.shape)\n",
    "\n",
    "print(job_df_30['JobID_encoded'].head(1).values[0])\n",
    "print(job_df_30['JobID_encoded'].tail(1).values[0])\n",
    "#Checking whether JobID_encoded are sorted and contiguous\n",
    "assert (job_df_30['JobID_encoded'].head(1).values[0] == 1) #0 is reserved for padding\n",
    "assert (len(job_df_30) == job_df_30['JobID_encoded'].tail(1).values[0])"
   ]
  },
  {
   "cell_type": "markdown",
   "id": "00cf76be-1cf4-410e-a135-7d6394fe1000",
   "metadata": {},
   "source": [
    "# Step 3: Export all job infor"
   ]
  },
  {
   "cell_type": "code",
   "execution_count": 8,
   "id": "3131c6f8-462c-4b0d-96e2-55936e907923",
   "metadata": {},
   "outputs": [],
   "source": [
    "def export_job_metadata_and_embeddings(job_label_encoders, job_metadata_df, job_content_embeddings, output_job_metadata_and_embeddings_path):\n",
    "    print('Exporting job label encoders, job metadata and embeddings to {}'.format(output_job_metadata_and_embeddings_path))\n",
    "    to_serialize = (job_label_encoders, job_metadata_df, job_content_embeddings)\n",
    "    serialize(output_job_metadata_and_embeddings_path, to_serialize)"
   ]
  },
  {
   "cell_type": "code",
   "execution_count": 9,
   "id": "99e37ae2-e341-428f-ab39-bdec49fdf8ea",
   "metadata": {},
   "outputs": [
    {
     "name": "stdout",
     "output_type": "stream",
     "text": [
      "Exporting job label encoders, job metadata and embeddings to ../data/cb12/pickles/job_14d_30_metadata_and_embeddings_d2v.pickle\n"
     ]
    }
   ],
   "source": [
    "export_job_metadata_and_embeddings(job_features_encoders_30, job_df_30, job_content_embeddings_30, '../data/cb12/pickles/job_14d_30_metadata_and_embeddings_d2v.pickle')"
   ]
  },
  {
   "cell_type": "markdown",
   "id": "76a4b683-6a63-4d06-b90c-0b13bb383bce",
   "metadata": {},
   "source": [
    "# Step 4: Load user metadata"
   ]
  },
  {
   "cell_type": "code",
   "execution_count": 10,
   "id": "e5d54c2d-edd7-413e-a60a-630c22b2af87",
   "metadata": {},
   "outputs": [
    {
     "name": "stdout",
     "output_type": "stream",
     "text": [
      "Loading user from file: ../data/cb12/processed/users_14d_30_consider_user_encoded.csv\n",
      "(111785, 21)\n"
     ]
    }
   ],
   "source": [
    "print('Loading user from file: {}'.format(processed_path + 'users_14d_30_consider_user_encoded.csv'))\n",
    "user_df_30 = pd.read_csv(processed_path + 'users_14d_30_consider_user_encoded.csv', header=0, sep='\\t')\n",
    "print(user_df_30.shape)"
   ]
  },
  {
   "cell_type": "code",
   "execution_count": 12,
   "id": "96a695bc-8fb5-4e6c-8cc5-8ae323056b72",
   "metadata": {},
   "outputs": [],
   "source": [
    "user_features_encoders_30 = load_feature_encoders(processed_path + 'user_feature_encoders_14d_30_consider_user.pickle')"
   ]
  },
  {
   "cell_type": "markdown",
   "id": "62ed73f2-2291-4ce4-b185-585dbdffc08b",
   "metadata": {},
   "source": [
    "# Step 5: Export all user infor"
   ]
  },
  {
   "cell_type": "code",
   "execution_count": 13,
   "id": "c23f5d07-4deb-4165-98e1-3a7009acac2f",
   "metadata": {},
   "outputs": [
    {
     "name": "stdout",
     "output_type": "stream",
     "text": [
      "Exporting user label encoders and user metadata to ../data/cb12/pickles/user_14d_30_metadata.pickle\n"
     ]
    }
   ],
   "source": [
    "def export_user_metadata_and_embeddings(user_label_encoders, user_metadata_df, output_user_metadata_and_embeddings_path):\n",
    "    print('Exporting user label encoders and user metadata to {}'.format(output_user_metadata_and_embeddings_path))\n",
    "    to_serialize = (user_label_encoders, user_metadata_df)\n",
    "    serialize(output_user_metadata_and_embeddings_path, to_serialize)\n",
    "\n",
    "\n",
    "export_user_metadata_and_embeddings(user_features_encoders_30, user_df_30, '../data/cb12/pickles/user_14d_30_metadata.pickle')"
   ]
  },
  {
   "cell_type": "code",
   "execution_count": null,
   "id": "d1c5e680-496a-484d-8893-4aba0d37e698",
   "metadata": {},
   "outputs": [],
   "source": []
  }
 ],
 "metadata": {
  "kernelspec": {
   "display_name": "py3.7",
   "language": "python",
   "name": "py3.7"
  },
  "language_info": {
   "codemirror_mode": {
    "name": "ipython",
    "version": 3
   },
   "file_extension": ".py",
   "mimetype": "text/x-python",
   "name": "python",
   "nbconvert_exporter": "python",
   "pygments_lexer": "ipython3",
   "version": "3.7.11"
  }
 },
 "nbformat": 4,
 "nbformat_minor": 5
}
