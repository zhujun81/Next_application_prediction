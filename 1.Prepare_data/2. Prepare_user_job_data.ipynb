{
 "cells": [
  {
   "cell_type": "markdown",
   "id": "ac96f0e2-ebc0-4686-89a4-6578c13dde2d",
   "metadata": {},
   "source": [
    "For each dataset, create job file, which contains\n",
    "* JobID\n",
    "* JobCity\n",
    "* JobState\n",
    "* JobCountry\n",
    "\n",
    "For each dataset, create user file, which contains\n",
    "* UserID\n",
    "* UserCity\n",
    "* UserState\n",
    "* UserCountry\n",
    "* UserDegree\n",
    "* UserMajor"
   ]
  },
  {
   "cell_type": "code",
   "execution_count": 1,
   "id": "eb3c74fa-f11d-4296-b255-cebabfc53965",
   "metadata": {},
   "outputs": [],
   "source": [
    "import random\n",
    "import pickle\n",
    "import argparse\n",
    "import numpy as np\n",
    "import pandas as pd\n",
    "import tensorflow as tf"
   ]
  },
  {
   "cell_type": "code",
   "execution_count": 2,
   "id": "f1b6dfa9-e9e1-4d54-808d-b52170048cb0",
   "metadata": {},
   "outputs": [],
   "source": [
    "path =  \"../data/\"\n",
    "dataset = \"cb12/\"\n",
    "\n",
    "raw_path = path + dataset + \"raw/\" \n",
    "interim_path = path + dataset + \"interim/\"\n",
    "processed_path = path + dataset + \"processed/\""
   ]
  },
  {
   "cell_type": "markdown",
   "id": "a874f5a1-1e2f-4305-a6d2-92c61c4a83f6",
   "metadata": {},
   "source": [
    "# Step 1: Load user data"
   ]
  },
  {
   "cell_type": "code",
   "execution_count": 3,
   "id": "a35e6c9e-32f8-4421-b941-2f59f14b0e7a",
   "metadata": {},
   "outputs": [
    {
     "name": "stdout",
     "output_type": "stream",
     "text": [
      "(389708, 15)\n",
      "(286569, 15)\n"
     ]
    }
   ],
   "source": [
    "df_user = pd.read_csv(raw_path + 'users.tsv', header=0, sep='\\t')\n",
    "print(df_user.shape)\n",
    "df_user.dropna(axis=0, how='any', thresh=None, subset=['UserID', 'City', 'State', 'Country', 'DegreeType', 'Major', 'WorkHistoryCount', 'TotalYearsExperience'], inplace=True)\n",
    "print(df_user.shape)"
   ]
  },
  {
   "cell_type": "markdown",
   "id": "4a3d4bfc-2fb6-4a3d-a885-7908bfd3bafb",
   "metadata": {},
   "source": [
    "# Step 2: Load job data"
   ]
  },
  {
   "cell_type": "markdown",
   "id": "bbe5d300-0e0a-4484-bb27-59b928005a20",
   "metadata": {},
   "source": [
    "### 30min"
   ]
  },
  {
   "cell_type": "code",
   "execution_count": 5,
   "id": "1debf359-fa95-42ec-88e3-4a129ad21bf0",
   "metadata": {},
   "outputs": [
    {
     "name": "stdout",
     "output_type": "stream",
     "text": [
      "Loading train data from file: ../data/cb12/processed/train_14d_30_consider_user.csv\n",
      "Train data shape:  (586434, 19)\n",
      "Loading test data from file: ../data/cb12/processed/test_14d_30_consider_user.csv\n",
      "Test data shape:  (52035, 19)\n"
     ]
    }
   ],
   "source": [
    "print('Loading train data from file: {}'.format(processed_path + 'train_14d_30_consider_user.csv'))\n",
    "train_df = pd.read_csv(processed_path + 'train_14d_30_consider_user.csv', header=0, sep='\\t')\n",
    "train_df['All'] = train_df[\"Title\"].map(str) + train_df[\"Description\"].map(str) + train_df[\"Requirements\"].map(str)\n",
    "print('Train data shape: ', train_df.shape)\n",
    "\n",
    "print('Loading test data from file: {}'.format(processed_path + 'test_14d_30_consider_user.csv'))\n",
    "test_df = pd.read_csv(processed_path + 'test_14d_30_consider_user.csv', header=0, sep='\\t')\n",
    "test_df['All'] = test_df[\"Title\"].map(str) + test_df[\"Description\"].map(str) + test_df[\"Requirements\"].map(str)\n",
    "print('Test data shape: ', test_df.shape)"
   ]
  },
  {
   "cell_type": "code",
   "execution_count": 6,
   "id": "8347ec56-de04-4618-8cee-865289e87fba",
   "metadata": {},
   "outputs": [
    {
     "name": "stdout",
     "output_type": "stream",
     "text": [
      "(207972, 19)\n"
     ]
    }
   ],
   "source": [
    "job_df = train_df.drop_duplicates(subset='JobID')\n",
    "print(job_df.shape)"
   ]
  },
  {
   "cell_type": "code",
   "execution_count": 7,
   "id": "9e71fd5c-5660-4f1c-89a5-7317733f2896",
   "metadata": {},
   "outputs": [
    {
     "name": "stderr",
     "output_type": "stream",
     "text": [
      "/usr/local/anaconda3/envs/py3.7/lib/python3.7/site-packages/pandas/core/frame.py:5047: SettingWithCopyWarning: \n",
      "A value is trying to be set on a copy of a slice from a DataFrame\n",
      "\n",
      "See the caveats in the documentation: https://pandas.pydata.org/pandas-docs/stable/user_guide/indexing.html#returning-a-view-versus-a-copy\n",
      "  errors=errors,\n"
     ]
    }
   ],
   "source": [
    "job_df.rename(columns={\"City\": \"JobCity\", \"State\": \"JobState\", \"Country\": \"JobCountry\"}, inplace = True)"
   ]
  },
  {
   "cell_type": "code",
   "execution_count": 8,
   "id": "4f3f294c-9b9a-4ace-be04-166fb3cadea6",
   "metadata": {},
   "outputs": [],
   "source": [
    "job_df.to_csv(processed_path + 'jobs_14d_30_consider_user.csv', sep='\\t',index=False)"
   ]
  },
  {
   "cell_type": "code",
   "execution_count": 9,
   "id": "570e4984-04d9-45a3-8893-e5a5a8a81410",
   "metadata": {},
   "outputs": [
    {
     "name": "stdout",
     "output_type": "stream",
     "text": [
      "(638469, 19)\n"
     ]
    }
   ],
   "source": [
    "all_df = pd.concat([train_df, test_df], axis = 0)\n",
    "print(all_df.shape)"
   ]
  },
  {
   "cell_type": "code",
   "execution_count": 10,
   "id": "9314804f-2e54-4952-b3ee-74d04350d930",
   "metadata": {},
   "outputs": [
    {
     "name": "stdout",
     "output_type": "stream",
     "text": [
      "(111785, 15)\n"
     ]
    }
   ],
   "source": [
    "df_user_valid = df_user[df_user.UserID.isin(all_df.UserID)]\n",
    "print(df_user_valid.shape)\n",
    "df_user_valid.rename(columns={\"City\": \"UserCity\", \"State\": \"UserState\", \"Country\": \"UserCountry\", \"DegreeType\": \"UserDegree\", \"Major\": \"UserMajor\"}, inplace = True)"
   ]
  },
  {
   "cell_type": "code",
   "execution_count": 11,
   "id": "0c122a1c-a8a2-4fcd-aaee-65783d39f0c1",
   "metadata": {},
   "outputs": [],
   "source": [
    "df_user_valid.to_csv(processed_path + 'users_14d_30_consider_user.csv', sep='\\t',index=False)"
   ]
  }
 ],
 "metadata": {
  "kernelspec": {
   "display_name": "py3.7",
   "language": "python",
   "name": "py3.7"
  },
  "language_info": {
   "codemirror_mode": {
    "name": "ipython",
    "version": 3
   },
   "file_extension": ".py",
   "mimetype": "text/x-python",
   "name": "python",
   "nbconvert_exporter": "python",
   "pygments_lexer": "ipython3",
   "version": "3.7.11"
  }
 },
 "nbformat": 4,
 "nbformat_minor": 5
}
